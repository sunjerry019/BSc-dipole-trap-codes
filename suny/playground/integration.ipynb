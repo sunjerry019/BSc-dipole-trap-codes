{
 "cells": [
  {
   "cell_type": "code",
   "execution_count": 21,
   "metadata": {},
   "outputs": [],
   "source": [
    "import numpy as np\n",
    "import scipy.integrate\n",
    "import matplotlib.pyplot as plt"
   ]
  },
  {
   "cell_type": "code",
   "execution_count": 2,
   "metadata": {},
   "outputs": [],
   "source": [
    "from typing import Union\n",
    "\n",
    "\n",
    "def gaussian_beam_width(z: Union[float, np.ndarray], w_0: float , z_0: float, Msq: float, wavelength: float) -> Union[float, np.ndarray]:\n",
    "        \"\"\" Returns the gaussian beam width based on a gaussian beam propagation\n",
    "        \n",
    "        Note that this function is normalized if:\n",
    "        - Everything is in SI-Units, or\n",
    "        - w, w_0: [um], z, z_0: [mm], lmbda: [nm] (preferred)\n",
    "\n",
    "\n",
    "        Args:\n",
    "            z (Union[float, np.ndarray]): Position in propagation direction [m, mm]\n",
    "            w_0 (float): Beam waist                                         [m, um]\n",
    "            z_0 (float): Position of beam waist                             [m, mm]\n",
    "            Msq (float): M-squared beam quality factor                      [no unit]\n",
    "            wavelength (float): Wavelength of light                         [m, nm]\n",
    "\n",
    "        Returns:\n",
    "            float: Gaussian beam width [m, um]\n",
    "        \"\"\"\n",
    "\n",
    "        return w_0 * np.sqrt(\n",
    "            1 + ((z - z_0)**2)*((\n",
    "                (Msq * wavelength)/\n",
    "                (np.pi * (w_0**2))\n",
    "            )**2)\n",
    "        )"
   ]
  },
  {
   "cell_type": "code",
   "execution_count": 3,
   "metadata": {},
   "outputs": [],
   "source": [
    "def intensity(x, y, z):\n",
    "    I0 = 1\n",
    "    w_x = gaussian_beam_width(z = z, w_0 = 25e-6, z_0 = 0, Msq = 1, wavelength = 1064e-9)\n",
    "    w_y = w_x\n",
    "    return I0 * np.exp(-2*((x/w_x)**2 + (y/w_y)**2))"
   ]
  },
  {
   "cell_type": "code",
   "execution_count": 55,
   "metadata": {},
   "outputs": [],
   "source": [
    "def integrate_over_time(xs, y, z, numsamples, deviation):\n",
    "    # xs = np.linspace(start = -100, stop = 100, endpoint = True, num = 401) * 1e-6\n",
    "    # For every x in xs, we have some time t from 0 to 1, scaled according to the period\n",
    "\n",
    "    xs_t = xs[:, np.newaxis]\n",
    "\n",
    "    # sample t from 0 to 1\n",
    "    ts     = np.linspace(start = 0, stop = 1, endpoint = True, num = numsamples)\n",
    "    f_of_t = intensity(x = xs_t - deviation * np.sin(2*np.pi*ts), y = y, z = z)\n",
    "    integrated = scipy.integrate.simpson(y = f_of_t, x = ts)\n",
    "\n",
    "    return integrated"
   ]
  },
  {
   "cell_type": "code",
   "execution_count": 56,
   "metadata": {},
   "outputs": [],
   "source": [
    "xs = np.linspace(start = -100, stop = 100, endpoint = True, num = 401) * 1e-6\n",
    "y = 0\n",
    "z = 0\n",
    "integration_results = integrate_over_time(xs = xs, y = y, z = z, numsamples = 100, deviation = 25e-6)"
   ]
  },
  {
   "cell_type": "code",
   "execution_count": 57,
   "metadata": {},
   "outputs": [
    {
     "data": {
      "image/png": "[encoded data removed]",
      "text/plain": [
       "<Figure size 432x288 with 1 Axes>"
      ]
     },
     "metadata": {
      "needs_background": "light"
     },
     "output_type": "display_data"
    }
   ],
   "source": [
    "fig, ax = plt.subplots(1, 1)\n",
    "ax.plot(xs, integration_results)\n",
    "plt.show()"
   ]
  }
 ],
 "metadata": {
  "kernelspec": {
   "display_name": "Python 3.10.5 64-bit",
   "language": "python",
   "name": "python3"
  },
  "language_info": {
   "codemirror_mode": {
    "name": "ipython",
    "version": 3
   },
   "file_extension": ".py",
   "mimetype": "text/x-python",
   "name": "python",
   "nbconvert_exporter": "python",
   "pygments_lexer": "ipython3",
   "version": "3.10.5"
  },
  "orig_nbformat": 4,
  "vscode": {
   "interpreter": {
    "hash": "e7370f93d1d0cde622a1f8e1c04877d8463912d04d973331ad4851f04de6915a"
   }
  }
 },
 "nbformat": 4,
 "nbformat_minor": 2
}
