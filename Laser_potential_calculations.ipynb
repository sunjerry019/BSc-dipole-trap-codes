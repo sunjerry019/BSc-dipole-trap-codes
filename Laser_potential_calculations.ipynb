{
 "cells": [
  {
   "cell_type": "code",
   "execution_count": 38,
   "id": "90505e78",
   "metadata": {},
   "outputs": [],
   "source": [
    "import math\n",
    "e = 1.6*10**(-19)\n",
    "#m = 6.015122 * 1.6605*10**(-24)\n",
    "m = 9.1093837015*10**(-31)\n",
    "c = 3*10**8\n",
    "epsilon = 8.8541878128*10**(-12)\n",
    "k_B = 1.380649*10**(-23)\n",
    "laser_wavelength = 670.992421*10**(-9)\n",
    "#laser_wavelength = 1070*10**(-9)\n",
    "li6_frequency = 446.789634*10**12 #https://jet.physics.ncsu.edu/techdocs/pdf/PropertiesOfLi.pdf\n",
    "omega = 2 * math.pi*c/laser_wavelength\n",
    "omega_0 = 2 * math.pi*li6_frequency\n",
    "P = 200\n",
    "w = 50 * 10**(-6)\n",
    "\n",
    "\n",
    "Gamma = e**2*omega**2/(6*math.pi*epsilon*m*c**3)\n",
    "alpha = e**2/m/(omega_0**2-omega**2-omega*Gamma*1j)\n",
    "I = P/(math.pi*w**2/2)\n",
    "U_dip = -1/(2*epsilon*c)*alpha.real*I/k_B\n",
    "\n"
   ]
  },
  {
   "cell_type": "code",
   "execution_count": 39,
   "id": "7591a478",
   "metadata": {},
   "outputs": [
    {
     "name": "stdout",
     "output_type": "stream",
     "text": [
      "49215779.63477382\n",
      "dimple potential is -1787.7497256113481mk\n"
     ]
    }
   ],
   "source": [
    "#print(omega)\n",
    "#print(omega_0)\n",
    "print(Gamma)\n",
    "#print(alpha)\n",
    "#print(U_dip)\n",
    "\n",
    "print(\"dimple potential is \" + str(-U_dip*10**3) + \"mk\")"
   ]
  },
  {
   "cell_type": "code",
   "execution_count": null,
   "id": "b9d84877",
   "metadata": {},
   "outputs": [],
   "source": [
    "\n"
   ]
  },
  {
   "cell_type": "code",
   "execution_count": null,
   "id": "0c023780",
   "metadata": {},
   "outputs": [],
   "source": []
  },
  {
   "cell_type": "code",
   "execution_count": null,
   "id": "d0d2d172",
   "metadata": {},
   "outputs": [],
   "source": []
  },
  {
   "cell_type": "code",
   "execution_count": null,
   "id": "48611760",
   "metadata": {},
   "outputs": [],
   "source": []
  }
 ],
 "metadata": {
  "kernelspec": {
   "display_name": "Python 3 (ipykernel)",
   "language": "python",
   "name": "python3"
  },
  "language_info": {
   "codemirror_mode": {
    "name": "ipython",
    "version": 3
   },
   "file_extension": ".py",
   "mimetype": "text/x-python",
   "name": "python",
   "nbconvert_exporter": "python",
   "pygments_lexer": "ipython3",
   "version": "3.9.12"
  }
 },
 "nbformat": 4,
 "nbformat_minor": 5
}
