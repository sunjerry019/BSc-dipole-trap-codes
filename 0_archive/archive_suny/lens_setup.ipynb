{
 "cells": [
  {
   "cell_type": "markdown",
   "metadata": {},
   "source": [
    "# Lens Setup"
   ]
  },
  {
   "cell_type": "code",
   "execution_count": 1,
   "metadata": {},
   "outputs": [],
   "source": [
    "import numpy as np\n",
    "import sympy.physics.optics.gaussopt as GO"
   ]
  },
  {
   "cell_type": "code",
   "execution_count": 14,
   "metadata": {},
   "outputs": [
    {
     "name": "stdout",
     "output_type": "stream",
     "text": [
      "Matrix([[0], [0.0872664625997165]])\n",
      "Matrix([[0.0174532925199433], [0]])\n",
      "Matrix([[0.0174532925199433], [-0.0581776417331443]])\n",
      "Matrix([[-0.00581776417331443], [0]])\n",
      "Matrix([[-0.00581776417331443], [0]])\n"
     ]
    }
   ],
   "source": [
    "# Settings\n",
    "## Initial\n",
    "height_0 = 0              # m\n",
    "angle_0  = np.deg2rad(5) # Determined by AOM\n",
    "\n",
    "## Lenses\n",
    "f_1 = 75e-3  # m\n",
    "f_2 = 100e-3\n",
    "f_3 = 200e-3\n",
    "\n",
    "ray = GO.GeometricRay(height_0, angle_0)\n",
    "L1  = GO.ThinLens(f = f_1)\n",
    "L2  = GO.ThinLens(f = f_2)\n",
    "L3  = GO.ThinLens(f = f_3)\n",
    "\n",
    "rays = [ray]\n",
    "\n",
    "rays.append(L1 * GO.FreeSpace(d = f_1)       * rays[-1])\n",
    "rays.append(L2 * GO.FreeSpace(d = f_1 + f_2) * rays[-1])\n",
    "rays.append(L3 * GO.FreeSpace(d = f_2 + f_3) * rays[-1])\n",
    "rays.append(GO.FreeSpace(d = f_3) * rays[-1])\n",
    "\n",
    "for ray in rays:\n",
    "    print(ray)"
   ]
  },
  {
   "cell_type": "code",
   "execution_count": null,
   "metadata": {},
   "outputs": [],
   "source": []
  }
 ],
 "metadata": {
  "kernelspec": {
   "display_name": "Python 3.10.4 ('FermiQP')",
   "language": "python",
   "name": "python3"
  },
  "language_info": {
   "codemirror_mode": {
    "name": "ipython",
    "version": 3
   },
   "file_extension": ".py",
   "mimetype": "text/x-python",
   "name": "python",
   "nbconvert_exporter": "python",
   "pygments_lexer": "ipython3",
   "version": "3.10.4"
  },
  "orig_nbformat": 4,
  "vscode": {
   "interpreter": {
    "hash": "8a708df720af6ac8eced123b0d6c8edf063a02a99aa7dbe03352db1b89d4e93f"
   }
  }
 },
 "nbformat": 4,
 "nbformat_minor": 2
}
