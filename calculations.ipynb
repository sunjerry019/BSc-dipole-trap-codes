{
 "cells": [
  {
   "cell_type": "markdown",
   "metadata": {},
   "source": [
    "Trap Depth Calculations"
   ]
  },
  {
   "cell_type": "code",
   "execution_count": 1,
   "metadata": {},
   "outputs": [],
   "source": [
    "import numpy as np\n",
    "import scipy.constants as sc"
   ]
  },
  {
   "cell_type": "code",
   "execution_count": 2,
   "metadata": {},
   "outputs": [],
   "source": [
    "def to_freq_ang(wavelength: float) -> float:\n",
    "    \"\"\"Converts a wavelength to its angular frequency using the formula \n",
    "       omega = 2*pi*c / lambda\n",
    "\n",
    "    Args:\n",
    "        wavelength (float): Wavelength [nm]\n",
    "\n",
    "    Returns:\n",
    "        float: Angular frequency in s^-1\n",
    "    \"\"\"\n",
    "\n",
    "    # Converts a wavelength in nanometers of light to radians\n",
    "    return (2*np.pi*sc.speed_of_light*1e9)/(wavelength)"
   ]
  },
  {
   "cell_type": "code",
   "execution_count": 3,
   "metadata": {},
   "outputs": [],
   "source": [
    "def alpha(wavelength: float) -> complex:\n",
    "    \"\"\"Calculates the polarizability alpha using equation (8) from the Grimm review paper\n",
    "\n",
    "    Args:\n",
    "        wavelength (float): wavelength [nm]\n",
    "\n",
    "    Returns:\n",
    "        complex: Complex polarizability alpha\n",
    "    \"\"\"\n",
    "    # Units = (A^2s^4)/(kg rad)\n",
    "    # Use Equation (8)\n",
    "\n",
    "    # https://jet.physics.ncsu.edu/techdocs/pdf/PropertiesOfLi.pdf\n",
    "\n",
    "    omega_0       = to_freq_ang(wavelength = 671)\n",
    "    omega         = to_freq_ang(wavelength = wavelength)\n",
    "    gamma_omega_0 = 36.898e6  \n",
    "    # Line width of the transition (We are only interested in the damping there)\n",
    "\n",
    "    result  = 6 * np.pi * sc.epsilon_0 * (sc.speed_of_light**3)\n",
    "    result *= gamma_omega_0 / (omega_0**2)\n",
    "    result /= complex(omega_0**2 - omega**2, - (omega**3/omega_0**2)*gamma_omega_0)\n",
    "\n",
    "    return result\n"
   ]
  },
  {
   "cell_type": "code",
   "execution_count": 4,
   "metadata": {},
   "outputs": [],
   "source": [
    "def potential(intensity: float, wavelength: float) -> float:\n",
    "    \"\"\"Calculates the dipole potential using equation (2) of the Grimms Review Paper\n",
    "\n",
    "    Args:\n",
    "        intensity (float): Intensity   [W/m^2]\n",
    "        wavelength (float): Wavelength [nm]\n",
    "\n",
    "    Returns:\n",
    "        float: Potential \n",
    "    \"\"\"\n",
    "    \n",
    "    # Equation (2) of Grimm\n",
    "    _alpha = alpha(wavelength = wavelength)\n",
    "    print(\"alpha =\", _alpha)\n",
    "\n",
    "    U_dip  = - np.real(_alpha) * intensity\n",
    "    U_dip /= 2 * sc.epsilon_0 * sc.speed_of_light\n",
    "\n",
    "    return U_dip"
   ]
  },
  {
   "cell_type": "code",
   "execution_count": 5,
   "metadata": {},
   "outputs": [],
   "source": [
    "def trap_temperature(trap_depth: float) -> float:\n",
    "    \"\"\"Converts a trap depth (i.e. min dipole potential) to a temperature using T = U/kB\n",
    "\n",
    "    Args:\n",
    "        trap_depth (float): Trap Depth [J]\n",
    "\n",
    "    Returns:\n",
    "        float: Temperature of the trap\n",
    "    \"\"\"\n",
    "    \n",
    "    return -trap_depth/sc.Boltzmann"
   ]
  },
  {
   "cell_type": "code",
   "execution_count": 6,
   "metadata": {},
   "outputs": [],
   "source": [
    "from typing import Tuple\n",
    "\n",
    "def gaussian_beam_width(z: float, w_0: float , z_0: float, Msq: float, wavelength: float) -> float:\n",
    "    \"\"\" Returns the gaussian beam width based on a gaussian beam propagation\n",
    "    \n",
    "    Note that this function is normalized if:\n",
    "\t- Everything is in SI-Units, or\n",
    "\t- w, w_0: [um], z, z_0: [mm], lmbda: [nm] (preferred)\n",
    "\n",
    "\n",
    "    Args:\n",
    "        z (float): Position in propagation direction [m, mm]\n",
    "        w_0 (float): Beam waist [m, um]\n",
    "        z_0 (float): Position of beam waist [m, mm]\n",
    "        Msq (float): M-squared beam quality factor\n",
    "        wavelength (float): Wavelength of light [m, nm]\n",
    "\n",
    "    Returns:\n",
    "        float: _description_\n",
    "    \"\"\"\n",
    "\n",
    "    return w_0 * np.sqrt(\n",
    "\t\t1 + ((z - z_0)**2)*((\n",
    "\t\t\t(Msq * wavelength)/\n",
    "\t\t\t(np.pi * (w_0**2))\n",
    "\t\t)**2)\n",
    "\t)\n",
    "\n",
    "def max_intensity(power: float, width_x: float, width_y: float) -> float:\n",
    "    \"\"\"Generate the max-intensity of the gaussian intensity distribution given power, w_x and w_y\n",
    "\n",
    "    Function is normalized if:\n",
    "    - Everything in SI-units, or\n",
    "    - P [W], w_x [um], w_y [um] (preferred)\n",
    "\n",
    "    Args:\n",
    "        power (float): Power [W]\n",
    "        width_x (float): width [m, um]\n",
    "        width_y (float): width [m, um]\n",
    "\n",
    "    Returns:\n",
    "        float: Max intensity I_0 in [W/m^2, W/um^2]\n",
    "    \"\"\"\n",
    "    return (2 * power) / (np.pi * (width_x*width_y))\n",
    "\n",
    "def intensity(\n",
    "        x: float, y: float, z: float,\n",
    "        power: float, \n",
    "        wavelength: float,\n",
    "        w_0: Tuple[float, float],\n",
    "        z_0: Tuple[float, float],\n",
    "        Msq: Tuple[float, float]\n",
    "    ) -> float:\n",
    "\n",
    "    \"\"\"Returns the intensity of a guassian beam at a point in 3D space. Assumes a simple astigmatic beam\n",
    "\n",
    "    Note that this function is normalized if:\n",
    "\t- Everything is in SI-Units, or\n",
    "\t- w, w_0: [um], z, z_0: [mm], lmbda: [nm] (preferred)\n",
    "\n",
    "    Args:\n",
    "        x (float): x position (one of the main axes)                        [m, um]\n",
    "        y (float): y position (one of the main axes)                        [m, um]\n",
    "        z (float): z position (propagation direction)                       [m, mm]\n",
    "        power (float): Power of the beam                                    [W]\n",
    "        wavelength (float): Wavelength of the light                         [m, nm]\n",
    "        w_0 (Tuple[float, float]): Tuple of the beam waist (x, y axes)      [m, um]\n",
    "        z_0 (Tuple[float, float]): Tuple of the rayleigh length (x, y axes) [m, mm]\n",
    "        Msq (Tuple[float, float]): Tuple of the beam quality factor M^2 (x, y axes)\n",
    "\n",
    "    Returns:\n",
    "        float: The intensity at that point [W/m^2, W/um^2]\n",
    "    \"\"\" \n",
    "\n",
    "    # the x and y are the main axes for astigmatism\n",
    "\n",
    "    x_params = { \"w_0\": w_0[0], \"z_0\": z_0[0], \"Msq\": Msq[0], \"wavelength\": wavelength }\n",
    "    y_params = { \"w_0\": w_0[1], \"z_0\": z_0[1], \"Msq\": Msq[1], \"wavelength\": wavelength }\n",
    "\n",
    "    w_x = gaussian_beam_width(z = z, **x_params)\n",
    "    w_y = gaussian_beam_width(z = z, **y_params)\n",
    "\n",
    "    I0 = max_intensity(power = power, width_x = w_x, width_y = w_y)\n",
    "\n",
    "    intensity = I0 * np.exp(-2*((x/w_x)**2 + (y/w_y)**2))\n",
    "\n",
    "    return intensity"
   ]
  },
  {
   "cell_type": "markdown",
   "metadata": {},
   "source": [
    "# Check units"
   ]
  },
  {
   "cell_type": "code",
   "execution_count": 7,
   "metadata": {},
   "outputs": [
    {
     "name": "stdout",
     "output_type": "stream",
     "text": [
      "204.4161058594956 204.41610585949562\n"
     ]
    }
   ],
   "source": [
    "x = gaussian_beam_width(z = 3,    w_0 = 5, z_0 = 6, Msq = 1, wavelength = 1070)\n",
    "y = gaussian_beam_width(z = 3e-3, w_0 = 5e-6, z_0 = 6e-3, Msq = 1, wavelength = 1070e-9)\n",
    "\n",
    "print(x, y * 1e6) # convert to um"
   ]
  },
  {
   "cell_type": "code",
   "execution_count": 8,
   "metadata": {},
   "outputs": [
    {
     "name": "stdout",
     "output_type": "stream",
     "text": [
      "0.01768388256576615 0.03978873577297383\n"
     ]
    }
   ],
   "source": [
    "x = max_intensity(power = 100, width_x = 60, width_y = 60)\n",
    "y = max_intensity(power = 100, width_x = 40e-6, width_y = 40e-6)\n",
    "print(x, y * 1e-12) # convert to W/um^2"
   ]
  },
  {
   "cell_type": "markdown",
   "metadata": {},
   "source": [
    "# Calculations"
   ]
  },
  {
   "cell_type": "code",
   "execution_count": 9,
   "metadata": {},
   "outputs": [
    {
     "name": "stdout",
     "output_type": "stream",
     "text": [
      "alpha = (4.403504782680971e-39+2.352531047837446e-47j)\n",
      "-1.466819470370436e-26 J 1.0624130176246358 mK\n"
     ]
    }
   ],
   "source": [
    "U = potential(intensity = x*1e12, wavelength = 1070) # SI UNIT OUTPUT\n",
    "temp = trap_temperature(U)\n",
    "\n",
    "print(U, \"J\", temp*1e3, \"mK\")"
   ]
  },
  {
   "cell_type": "markdown",
   "metadata": {},
   "source": [
    "# Combining multiple Gaussians"
   ]
  },
  {
   "cell_type": "code",
   "execution_count": 10,
   "metadata": {},
   "outputs": [],
   "source": [
    "def transform_matrix_angle(axis: np.ndarray, degrees: float) -> np.ndarray:\n",
    "    \"\"\"Produce a transformation matrix to transform from one coordinate system to another (Beam 1 vs Beam 2).\n",
    "    Use the inverse to do a back-transformation\n",
    "\n",
    "    Reference: https://en.wikipedia.org/wiki/Transformation_matrix#Rotation_2\n",
    "\n",
    "    To be applied to a (1x3) row vector. r' = rT. Should be extensible to (nx3)\n",
    "\n",
    "    Args:\n",
    "        degrees (float): Angle to rotate along the x-z plane in degrees\n",
    "\n",
    "    Returns:\n",
    "        np.ndarray: Transformation matrix\n",
    "    \"\"\"\n",
    "\n",
    "    # unit vector representing the rotation axis\n",
    "    unit_axis = axis.flatten()\n",
    "    unit_axis = unit_axis / np.linalg.norm(unit_axis)\n",
    "    l,m,n = unit_axis[0], unit_axis[1], unit_axis[2]\n",
    "\n",
    "    angle = np.deg2rad(degrees)\n",
    "\n",
    "    cos  = np.cos(angle, dtype = np.float64)\n",
    "    cosp = (1 - cos)\n",
    "    sin  = np.sin(angle, dtype = np.float64)\n",
    "\n",
    "    # without .T, it is for r' = Tr with r as a column vector\n",
    "    ret = np.array([\n",
    "        [l*l*cosp+cos  , m*l*cosp-n*sin, n*l*cosp+m*sin],\n",
    "        [l*m*cosp+n*sin, m*m*cosp+cos  , n*m*cosp-l*sin],\n",
    "        [l*n*cosp*m*sin, m*n*cosp+l*sin, n*n*cosp+cos  ]\n",
    "    ]).T\n",
    "\n",
    "    return ret"
   ]
  },
  {
   "cell_type": "code",
   "execution_count": 11,
   "metadata": {},
   "outputs": [],
   "source": [
    "from scipy.spatial.transform import Rotation\n",
    "\n",
    "def transform_quaternion_angle(axis: np.ndarray, degrees: float) -> Rotation: \n",
    "    halfangle = np.deg2rad(degrees)/2\n",
    "\n",
    "    unit_axis = axis.flatten()\n",
    "    unit_axis = unit_axis / np.linalg.norm(unit_axis)\n",
    "\n",
    "    ax = np.sin(halfangle) * unit_axis\n",
    "    q  = np.concatenate(([np.cos(halfangle)], ax))\n",
    "\n",
    "    return Rotation.from_quat(q)"
   ]
  },
  {
   "cell_type": "code",
   "execution_count": 12,
   "metadata": {},
   "outputs": [],
   "source": [
    "import quaternion\n",
    "\n",
    "def get_quaternion_angle(axis: np.ndarray, degrees: float) -> np.ndarray: \n",
    "    halfangle = np.deg2rad(degrees)/2\n",
    "\n",
    "    unit_axis = axis.flatten()\n",
    "    unit_axis = unit_axis / np.linalg.norm(unit_axis)\n",
    "\n",
    "    ax = np.sin(halfangle) * unit_axis\n",
    "    q_arr = np.concatenate(([np.cos(halfangle)], ax)).tolist()\n",
    "    q  = np.quaternion(*q_arr)\n",
    "\n",
    "    return q"
   ]
  },
  {
   "cell_type": "code",
   "execution_count": 13,
   "metadata": {},
   "outputs": [
    {
     "name": "stdout",
     "output_type": "stream",
     "text": [
      "[0 0 3] [3.0000000e+00 0.0000000e+00 1.8369702e-16]\n"
     ]
    }
   ],
   "source": [
    "xps = [np.array([3, 0, 0])]\n",
    "\n",
    "x = np.array([0, 0, 3])\n",
    "T = transform_matrix_angle(axis = np.array([0,1,0]), degrees = 90)\n",
    "xp = np.matmul(x, T)\n",
    "\n",
    "xps.append(xp)\n",
    "\n",
    "print(x, xp)"
   ]
  },
  {
   "cell_type": "code",
   "execution_count": 14,
   "metadata": {},
   "outputs": [
    {
     "name": "stdout",
     "output_type": "stream",
     "text": [
      "[0 0 3] [3. 0. 0.]\n"
     ]
    }
   ],
   "source": [
    "R = transform_quaternion_angle(axis = np.array([0,1,0]), degrees = 90)\n",
    "xp = R.apply(x)\n",
    "\n",
    "xps.append(xp)\n",
    "\n",
    "print(x, xp)"
   ]
  },
  {
   "cell_type": "code",
   "execution_count": 15,
   "metadata": {},
   "outputs": [
    {
     "name": "stdout",
     "output_type": "stream",
     "text": [
      "quaternion(0, 0, 0, 3) quaternion(0, 3, 0, 0)\n"
     ]
    }
   ],
   "source": [
    "q  = get_quaternion_angle(axis = np.array([0,1,0]), degrees = 90)\n",
    "\n",
    "x  = np.quaternion(0, 0, 0, 3)\n",
    "xp = q*x*q.conjugate()\n",
    "\n",
    "xps.append(np.array([xp.x, xp.y, xp.z]))\n",
    "\n",
    "print(x, xp)"
   ]
  },
  {
   "cell_type": "code",
   "execution_count": 16,
   "metadata": {},
   "outputs": [
    {
     "data": {
      "text/plain": [
       "[array([3, 0, 0]),\n",
       " array([3.0000000e+00, 0.0000000e+00, 1.8369702e-16]),\n",
       " array([3., 0., 0.]),\n",
       " array([3., 0., 0.])]"
      ]
     },
     "execution_count": 16,
     "metadata": {},
     "output_type": "execute_result"
    }
   ],
   "source": [
    "xps"
   ]
  }
 ],
 "metadata": {
  "interpreter": {
   "hash": "8a708df720af6ac8eced123b0d6c8edf063a02a99aa7dbe03352db1b89d4e93f"
  },
  "kernelspec": {
   "display_name": "Python 3.10.4 ('FermiQP')",
   "language": "python",
   "name": "python3"
  },
  "language_info": {
   "codemirror_mode": {
    "name": "ipython",
    "version": 3
   },
   "file_extension": ".py",
   "mimetype": "text/x-python",
   "name": "python",
   "nbconvert_exporter": "python",
   "pygments_lexer": "ipython3",
   "version": "3.10.4"
  },
  "orig_nbformat": 4,
  "vscode": {
   "interpreter": {
    "hash": "e7370f93d1d0cde622a1f8e1c04877d8463912d04d973331ad4851f04de6915a"
   }
  }
 },
 "nbformat": 4,
 "nbformat_minor": 2
}
