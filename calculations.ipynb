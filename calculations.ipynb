{
 "cells": [
  {
   "cell_type": "markdown",
   "metadata": {},
   "source": [
    "Trap Depth Calculations"
   ]
  },
  {
   "cell_type": "code",
   "execution_count": 1,
   "metadata": {},
   "outputs": [],
   "source": [
    "import numpy as np\n",
    "import scipy.constants as sc"
   ]
  },
  {
   "cell_type": "code",
   "execution_count": 2,
   "metadata": {},
   "outputs": [],
   "source": [
    "def to_freq_ang(wavelength: float) -> float:\n",
    "    \"\"\"Converts a wavelength to its angular frequency using the formula \n",
    "       omega = 2*pi*c / lambda\n",
    "\n",
    "    Args:\n",
    "        wavelength (float): Wavelength [nm]\n",
    "\n",
    "    Returns:\n",
    "        float: Angular frequency in s^-1\n",
    "    \"\"\"\n",
    "\n",
    "    # Converts a wavelength in nanometers of light to radians\n",
    "    return (2*np.pi*sc.speed_of_light*1e9)/(wavelength)"
   ]
  },
  {
   "cell_type": "code",
   "execution_count": 3,
   "metadata": {},
   "outputs": [],
   "source": [
    "def alpha(wavelength: float) -> complex:\n",
    "    \"\"\"Calculates the polarizability alpha using equation (8) from the Grimm review paper\n",
    "\n",
    "    Args:\n",
    "        wavelength (float): wavelength [nm]\n",
    "\n",
    "    Returns:\n",
    "        complex: Complex polarizability alpha\n",
    "    \"\"\"\n",
    "    # Units = (A^2s^4)/(kg rad)\n",
    "    # Use Equation (8)\n",
    "\n",
    "    # https://jet.physics.ncsu.edu/techdocs/pdf/PropertiesOfLi.pdf\n",
    "\n",
    "    omega_0       = to_freq_ang(wavelength = 671)\n",
    "    omega         = to_freq_ang(wavelength = wavelength)\n",
    "    gamma_omega_0 = 36.898e6  \n",
    "    # Line width of the transition (We are only interested in the damping there)\n",
    "\n",
    "    result  = 6 * np.pi * sc.epsilon_0 * (sc.speed_of_light**3)\n",
    "    result *= gamma_omega_0 / (omega_0**2)\n",
    "    result /= complex(omega_0**2 - omega**2, - (omega**3/omega_0**2)*gamma_omega_0)\n",
    "\n",
    "    return result\n"
   ]
  },
  {
   "cell_type": "code",
   "execution_count": 11,
   "metadata": {},
   "outputs": [],
   "source": [
    "def potential(intensity: float, wavelength: float) -> float:\n",
    "    \"\"\"Calculates the dipole potential using equation (2) of the Grimms Review Paper\n",
    "\n",
    "    Args:\n",
    "        intensity (float): Intensity   [W/m^2]\n",
    "        wavelength (float): Wavelength [nm]\n",
    "\n",
    "    Returns:\n",
    "        float: Potential \n",
    "    \"\"\"\n",
    "    \n",
    "    # Equation (2) of Grimm\n",
    "    _alpha = alpha(wavelength = wavelength)\n",
    "    print(\"alpha =\", _alpha)\n",
    "\n",
    "    U_dip  = - np.real(_alpha) * intensity\n",
    "    U_dip /= 2 * sc.epsilon_0 * sc.speed_of_light\n",
    "\n",
    "    return U_dip"
   ]
  },
  {
   "cell_type": "code",
   "execution_count": 5,
   "metadata": {},
   "outputs": [],
   "source": [
    "def trap_temperature(trap_depth: float) -> float:\n",
    "    \"\"\"Converts a trap depth (i.e. min dipole potential) to a temperature using T = U/kB\n",
    "\n",
    "    Args:\n",
    "        trap_depth (float): Trap Depth [J]\n",
    "\n",
    "    Returns:\n",
    "        float: Temperature of the trap\n",
    "    \"\"\"\n",
    "    \n",
    "    return -trap_depth/sc.Boltzmann"
   ]
  },
  {
   "cell_type": "code",
   "execution_count": 6,
   "metadata": {},
   "outputs": [],
   "source": [
    "from typing import Tuple\n",
    "\n",
    "def gaussian_beam_width(z: float, w_0: float , z_0: float, Msq: float, wavelength: float) -> float:\n",
    "    \"\"\" Returns the gaussian beam width based on a gaussian beam propagation\n",
    "    \n",
    "    Note that this function is normalized if:\n",
    "\t- Everything is in SI-Units, or\n",
    "\t- w, w_0: [um], z, z_0: [mm], lmbda: [nm] (preferred)\n",
    "\n",
    "\n",
    "    Args:\n",
    "        z (float): Position in propagation direction [m, mm]\n",
    "        w_0 (float): Beam waist [m, um]\n",
    "        z_0 (float): Position of beam waist [m, mm]\n",
    "        Msq (float): M-squared beam quality factor\n",
    "        wavelength (float): Wavelength of light [m, nm]\n",
    "\n",
    "    Returns:\n",
    "        float: _description_\n",
    "    \"\"\"\n",
    "\n",
    "    return w_0 * np.sqrt(\n",
    "\t\t1 + ((z - z_0)**2)*((\n",
    "\t\t\t(Msq * wavelength)/\n",
    "\t\t\t(np.pi * (w_0**2))\n",
    "\t\t)**2)\n",
    "\t)\n",
    "\n",
    "def max_intensity(power: float, width_x: float, width_y: float) -> float:\n",
    "    \"\"\"Generate the max-intensity of the gaussian intensity distribution given power, w_x and w_y\n",
    "\n",
    "    Function is normalized if:\n",
    "    - Everything in SI-units, or\n",
    "    - P [W], w_x [um], w_y [um] (preferred)\n",
    "\n",
    "    Args:\n",
    "        power (float): Power [W]\n",
    "        width_x (float): width [m, um]\n",
    "        width_y (float): width [m, um]\n",
    "\n",
    "    Returns:\n",
    "        float: Max intensity I_0 in [W/m^2, W/um^2]\n",
    "    \"\"\"\n",
    "    return (2 * power) / (np.pi * (width_x*width_y))\n",
    "\n",
    "def intensity(\n",
    "        x: float, y: float, z: float,\n",
    "        power: float, \n",
    "        wavelength: float,\n",
    "        w_0: Tuple[float, float],\n",
    "        z_0: Tuple[float, float],\n",
    "        Msq: Tuple[float, float]\n",
    "    ) -> float:\n",
    "\n",
    "    \"\"\"Returns the intensity of a guassian beam at a point in 3D space. Assumes a simple astigmatic beam\n",
    "\n",
    "    Note that this function is normalized if:\n",
    "\t- Everything is in SI-Units, or\n",
    "\t- w, w_0: [um], z, z_0: [mm], lmbda: [nm] (preferred)\n",
    "\n",
    "    Args:\n",
    "        x (float): x position (one of the main axes)                        [m, um]\n",
    "        y (float): y position (one of the main axes)                        [m, um]\n",
    "        z (float): z position (propagation direction)                       [m, mm]\n",
    "        power (float): Power of the beam                                    [W]\n",
    "        wavelength (float): Wavelength of the light                         [m, nm]\n",
    "        w_0 (Tuple[float, float]): Tuple of the beam waist (x, y axes)      [m, um]\n",
    "        z_0 (Tuple[float, float]): Tuple of the rayleigh length (x, y axes) [m, mm]\n",
    "        Msq (Tuple[float, float]): Tuple of the beam quality factor M^2 (x, y axes)\n",
    "\n",
    "    Returns:\n",
    "        float: The intensity at that point [W/m^2, W/um^2]\n",
    "    \"\"\" \n",
    "\n",
    "    # the x and y are the main axes for astigmatism\n",
    "\n",
    "    x_params = { \"w_0\": w_0[0], \"z_0\": z_0[0], \"Msq\": Msq[0], \"wavelength\": wavelength }\n",
    "    y_params = { \"w_0\": w_0[1], \"z_0\": z_0[1], \"Msq\": Msq[1], \"wavelength\": wavelength }\n",
    "\n",
    "    w_x = gaussian_beam_width(z = z, **x_params)\n",
    "    w_y = gaussian_beam_width(z = z, **y_params)\n",
    "\n",
    "    I0 = max_intensity(power = power, width_x = w_x, width_y = w_y)\n",
    "\n",
    "    intensity = I0 * np.exp(-2*((x/w_x)**2 + (y/w_y)**2))\n",
    "\n",
    "    return intensity"
   ]
  },
  {
   "cell_type": "markdown",
   "metadata": {},
   "source": [
    "# Check units"
   ]
  },
  {
   "cell_type": "code",
   "execution_count": 7,
   "metadata": {},
   "outputs": [
    {
     "name": "stdout",
     "output_type": "stream",
     "text": [
      "204.4161058594956 204.41610585949562\n"
     ]
    }
   ],
   "source": [
    "x = gaussian_beam_width(z = 3,    w_0 = 5, z_0 = 6, Msq = 1, wavelength = 1070)\n",
    "y = gaussian_beam_width(z = 3e-3, w_0 = 5e-6, z_0 = 6e-3, Msq = 1, wavelength = 1070e-9)\n",
    "\n",
    "print(x, y * 1e6) # convert to um"
   ]
  },
  {
   "cell_type": "code",
   "execution_count": 8,
   "metadata": {},
   "outputs": [
    {
     "name": "stdout",
     "output_type": "stream",
     "text": [
      "0.039788735772973836 0.03978873577297383\n"
     ]
    }
   ],
   "source": [
    "x = max_intensity(power = 100, width_x = 40, width_y = 40)\n",
    "y = max_intensity(power = 100, width_x = 40e-6, width_y = 40e-6)\n",
    "print(x, y * 1e-12) # convert to W/um^2"
   ]
  },
  {
   "cell_type": "markdown",
   "metadata": {},
   "source": [
    "# Calculations"
   ]
  },
  {
   "cell_type": "code",
   "execution_count": 10,
   "metadata": {},
   "outputs": [
    {
     "name": "stdout",
     "output_type": "stream",
     "text": [
      "alpha = (4.403504782680971e-39+2.352531047837446e-47j)\n",
      "-3.3003438083334806e-26 J 2.3904292896554304 mK\n"
     ]
    }
   ],
   "source": [
    "U = potential(x*1e12, 1070) # SI UNIT OUTPUT\n",
    "temp = trap_temperature(U)\n",
    "\n",
    "print(U, \"J\", temp*1e3, \"mK\")"
   ]
  }
 ],
 "metadata": {
  "interpreter": {
   "hash": "8a708df720af6ac8eced123b0d6c8edf063a02a99aa7dbe03352db1b89d4e93f"
  },
  "kernelspec": {
   "display_name": "Python 3.10.4 ('FermiQP')",
   "language": "python",
   "name": "python3"
  },
  "language_info": {
   "codemirror_mode": {
    "name": "ipython",
    "version": 3
   },
   "file_extension": ".py",
   "mimetype": "text/x-python",
   "name": "python",
   "nbconvert_exporter": "python",
   "pygments_lexer": "ipython3",
   "version": "3.10.4"
  },
  "orig_nbformat": 4
 },
 "nbformat": 4,
 "nbformat_minor": 2
}
