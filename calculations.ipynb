{
 "cells": [
  {
   "cell_type": "markdown",
   "metadata": {},
   "source": [
    "Trap Depth Calculations"
   ]
  },
  {
   "cell_type": "code",
   "execution_count": 4,
   "metadata": {},
   "outputs": [],
   "source": [
    "import numpy as np\n",
    "import scipy.constants as sc"
   ]
  },
  {
   "cell_type": "code",
   "execution_count": 5,
   "metadata": {},
   "outputs": [],
   "source": [
    "def gamma_w_light(omega: float) -> float:\n",
    "    # Equation (7) of Grimm, unit = Hz (or rads/s)\n",
    "    # Scattering\n",
    "    result = (sc.elementary_charge**2) * (omega**2)\n",
    "    result /= 6 * sc.pi * sc.epsilon_0 * sc.electron_mass * (sc.speed_of_light**3)\n",
    "\n",
    "    return result"
   ]
  },
  {
   "cell_type": "code",
   "execution_count": 6,
   "metadata": {},
   "outputs": [],
   "source": [
    "def to_freq_ang(wavelength: float) -> float:\n",
    "    # Converts a wavelength in nanometers of light to radians\n",
    "    return (2*np.pi*sc.speed_of_light*1e9)/(wavelength)"
   ]
  },
  {
   "cell_type": "code",
   "execution_count": 10,
   "metadata": {},
   "outputs": [
    {
     "data": {
      "text/plain": [
       "49.38394078090274"
      ]
     },
     "execution_count": 10,
     "metadata": {},
     "output_type": "execute_result"
    }
   ],
   "source": [
    "gamma_w_light(omega = to_freq_ang(wavelength = 670.992421))/1e6"
   ]
  },
  {
   "cell_type": "code",
   "execution_count": 4,
   "metadata": {},
   "outputs": [],
   "source": [
    "def alpha(wavelength: float) -> complex:\n",
    "    # Units = (A^2s^4)/(kg rad)\n",
    "    omega_0 = to_freq_ang(wavelength = 671)\n",
    "    omega   = to_freq_ang(wavelength = wavelength)\n",
    "\n",
    "    result  = sc.elementary_charge**2 / sc.electron_mass\n",
    "    result /= complex(omega_0**2 - omega**2, - omega*gamma_w_light(omega = omega))\n",
    "\n",
    "    return result\n"
   ]
  },
  {
   "cell_type": "code",
   "execution_count": 5,
   "metadata": {},
   "outputs": [],
   "source": [
    "def trap_depth(intensity: float, wavelength: float) -> float:\n",
    "    # Equation (2) of Grimm\n",
    "    _alpha = alpha(wavelength = wavelength)\n",
    "    print(\"alpha =\", _alpha)\n",
    "\n",
    "    U_dip  = - np.real(_alpha) * intensity\n",
    "    U_dip /= 2 * sc.epsilon_0 * sc.speed_of_light\n",
    "\n",
    "    return U_dip"
   ]
  },
  {
   "cell_type": "code",
   "execution_count": 19,
   "metadata": {},
   "outputs": [],
   "source": [
    "def trap_temperature(trap_depth: float) -> float:\n",
    "    return -trap_depth/sc.Boltzmann"
   ]
  },
  {
   "cell_type": "code",
   "execution_count": 7,
   "metadata": {},
   "outputs": [],
   "source": [
    "from typing import Tuple\n",
    "\n",
    "def gaussian_beam_width(z: float, w_0: float , z_0: float, Msq: float, wavelength: float) -> float:\n",
    "    \"\"\" Returns the gaussian beam width based on a gaussian beam propagation\n",
    "    \n",
    "    Note that this function is normalized if:\n",
    "\t- Everything is in SI-Units, or\n",
    "\t- w, w_0: [um], z, z_0: [mm], lmbda: [nm] (preferred)\n",
    "\n",
    "\n",
    "    Args:\n",
    "        z (float): Position in propagation direction [m, mm]\n",
    "        w_0 (float): Beam waist [m, um]\n",
    "        z_0 (float): Position of beam waist [m, mm]\n",
    "        Msq (float): M-squared beam quality factor\n",
    "        wavelength (float): Wavelength of light [m, nm]\n",
    "\n",
    "    Returns:\n",
    "        float: _description_\n",
    "    \"\"\"\n",
    "\n",
    "    return w_0 * np.sqrt(\n",
    "\t\t1 + ((z - z_0)**2)*((\n",
    "\t\t\t(Msq * wavelength)/\n",
    "\t\t\t(np.pi * (w_0**2))\n",
    "\t\t)**2)\n",
    "\t)\n",
    "\n",
    "def max_intensity(power: float, width_x: float, width_y: float) -> float:\n",
    "    \"\"\"Generate the max-intensity of the gaussian intensity distribution given power, w_x and w_y\n",
    "\n",
    "    Function is normalized if:\n",
    "    - Everything in SI-units, or\n",
    "    - P [W], w_x [um], w_y [um] (preferred)\n",
    "\n",
    "    Args:\n",
    "        power (float): Power [W]\n",
    "        width_x (float): width [m, um]\n",
    "        width_y (float): width [m, um]\n",
    "\n",
    "    Returns:\n",
    "        float: Max intensity I_0 in [W/m^2, W/um^2]\n",
    "    \"\"\"\n",
    "    return (2 * power) / (np.pi * (width_x*width_y))\n",
    "\n",
    "def intensity(\n",
    "        x: float, y: float, z: float,\n",
    "        power: float, \n",
    "        wavelength: float,\n",
    "        w_0: Tuple[float, float],\n",
    "        z_0: Tuple[float, float],\n",
    "        Msq: Tuple[float, float]\n",
    "    ) -> float:\n",
    "\n",
    "    \"\"\"Returns the intensity of a guassian beam at a point in 3D space. Assumes a simple astigmatic beam\n",
    "\n",
    "    Note that this function is normalized if:\n",
    "\t- Everything is in SI-Units, or\n",
    "\t- w, w_0: [um], z, z_0: [mm], lmbda: [nm] (preferred)\n",
    "\n",
    "    Args:\n",
    "        x (float): x position (one of the main axes)                        [m, um]\n",
    "        y (float): y position (one of the main axes)                        [m, um]\n",
    "        z (float): z position (propagation direction)                       [m, mm]\n",
    "        power (float): Power of the beam                                    [W]\n",
    "        wavelength (float): Wavelength of the light                         [m, nm]\n",
    "        w_0 (Tuple[float, float]): Tuple of the beam waist (x, y axes)      [m, um]\n",
    "        z_0 (Tuple[float, float]): Tuple of the rayleigh length (x, y axes) [m, mm]\n",
    "        Msq (Tuple[float, float]): Tuple of the beam quality factor M^2 (x, y axes)\n",
    "\n",
    "    Returns:\n",
    "        float: The intensity at that point [W/m^2, W/um^2]\n",
    "    \"\"\" \n",
    "\n",
    "    # the x and y are the main axes for astigmatism\n",
    "\n",
    "    x_params = { \"w_0\": w_0[0], \"z_0\": z_0[0], \"Msq\": Msq[0], \"wavelength\": wavelength }\n",
    "    y_params = { \"w_0\": w_0[1], \"z_0\": z_0[1], \"Msq\": Msq[1], \"wavelength\": wavelength }\n",
    "\n",
    "    w_x = gaussian_beam_width(z = z, **x_params)\n",
    "    w_y = gaussian_beam_width(z = z, **y_params)\n",
    "\n",
    "    I0 = max_intensity(power = power, width_x = w_x, width_y = w_y)\n",
    "\n",
    "    intensity = I0 * np.exp(-2*((x/w_x)**2 + (y/w_y)**2))\n",
    "\n",
    "    return intensity"
   ]
  },
  {
   "cell_type": "markdown",
   "metadata": {},
   "source": [
    "# Check units"
   ]
  },
  {
   "cell_type": "code",
   "execution_count": 10,
   "metadata": {},
   "outputs": [
    {
     "name": "stdout",
     "output_type": "stream",
     "text": [
      "204.4161058594956 204.41610585949562\n"
     ]
    }
   ],
   "source": [
    "x = gaussian_beam_width(z = 3,    w_0 = 5, z_0 = 6, Msq = 1, wavelength = 1070)\n",
    "y = gaussian_beam_width(z = 3e-3, w_0 = 5e-6, z_0 = 6e-3, Msq = 1, wavelength = 1070e-9)\n",
    "\n",
    "print(x, y * 1e6) # convert to um"
   ]
  },
  {
   "cell_type": "code",
   "execution_count": 24,
   "metadata": {},
   "outputs": [
    {
     "name": "stdout",
     "output_type": "stream",
     "text": [
      "0.039788735772973836 0.03978873577297383\n"
     ]
    }
   ],
   "source": [
    "x = max_intensity(power = 100, width_x = 40, width_y = 40)\n",
    "y = max_intensity(power = 100, width_x = 40e-6, width_y = 40e-6)\n",
    "print(x, y * 1e-12) # convert to W/um^2"
   ]
  },
  {
   "cell_type": "markdown",
   "metadata": {},
   "source": [
    "# Calculations"
   ]
  },
  {
   "cell_type": "code",
   "execution_count": 26,
   "metadata": {},
   "outputs": [
    {
     "name": "stdout",
     "output_type": "stream",
     "text": [
      "alpha = (5.8646023550014274e-39+4.172684608813957e-47j)\n",
      "-4.395408890389111e-26 0.0031835816999028067\n"
     ]
    }
   ],
   "source": [
    "U = trap_depth(x*1e12, 1070) # SI UNIT OUTPUT\n",
    "temp = trap_temperature(U)\n",
    "\n",
    "print(U, temp)"
   ]
  }
 ],
 "metadata": {
  "interpreter": {
   "hash": "8a708df720af6ac8eced123b0d6c8edf063a02a99aa7dbe03352db1b89d4e93f"
  },
  "kernelspec": {
   "display_name": "Python 3.10.4 ('FermiQP')",
   "language": "python",
   "name": "python3"
  },
  "language_info": {
   "codemirror_mode": {
    "name": "ipython",
    "version": 3
   },
   "file_extension": ".py",
   "mimetype": "text/x-python",
   "name": "python",
   "nbconvert_exporter": "python",
   "pygments_lexer": "ipython3",
   "version": "3.10.4"
  },
  "orig_nbformat": 4
 },
 "nbformat": 4,
 "nbformat_minor": 2
}
